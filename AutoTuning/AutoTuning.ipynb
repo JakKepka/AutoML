{
 "cells": [
  {
   "cell_type": "code",
   "execution_count": 1,
   "id": "5174e1a1-4e1c-4b3b-a9d3-a7f93a180db3",
   "metadata": {},
   "outputs": [],
   "source": [
    "import openml\n",
    "import numpy"
   ]
  },
  {
   "cell_type": "markdown",
   "id": "2f2e144d-0b0d-41bc-b5ab-4ae90a7305c0",
   "metadata": {},
   "source": [
    "# Import danych"
   ]
  },
  {
   "cell_type": "code",
   "execution_count": 2,
   "id": "10b368e2-6ec0-4482-892b-aec8d3857453",
   "metadata": {},
   "outputs": [],
   "source": [
    "datasets = {}"
   ]
  },
  {
   "cell_type": "markdown",
   "id": "4a49b92a-15bd-45d4-bf47-0f2a3227eb1d",
   "metadata": {},
   "source": [
    "### Diabetes"
   ]
  },
  {
   "cell_type": "code",
   "execution_count": 3,
   "id": "1625e297-2c86-4c0b-b489-ef737191d390",
   "metadata": {},
   "outputs": [],
   "source": [
    "diabetes_dataset = openml.datasets.get_dataset(37)"
   ]
  },
  {
   "cell_type": "code",
   "execution_count": 4,
   "id": "4d4798ee-3f7d-4306-a14d-fd54a72098ff",
   "metadata": {},
   "outputs": [],
   "source": [
    "X, y, _, columns = diabetes_dataset.get_data(target=diabetes_dataset.default_target_attribute)"
   ]
  },
  {
   "cell_type": "code",
   "execution_count": 5,
   "id": "376f06f5-d8b9-4aa8-97b9-5eeba7c56df7",
   "metadata": {},
   "outputs": [],
   "source": [
    "datasets['diabetes'] = [X, y, columns]"
   ]
  },
  {
   "cell_type": "markdown",
   "id": "41f3873f-d932-4cb3-b974-bd12a0956ab1",
   "metadata": {},
   "source": [
    "### Credit-g"
   ]
  },
  {
   "cell_type": "code",
   "execution_count": 6,
   "id": "291083db-deb2-4e88-91dd-724e6904a6b7",
   "metadata": {},
   "outputs": [],
   "source": [
    "creditg_dataset = openml.datasets.get_dataset(31)"
   ]
  },
  {
   "cell_type": "code",
   "execution_count": 7,
   "id": "1b0ac34c-184e-4dfb-bb84-a50c989f6a58",
   "metadata": {},
   "outputs": [],
   "source": [
    "X, y, _, columns = creditg_dataset.get_data(target=creditg_dataset.default_target_attribute)"
   ]
  },
  {
   "cell_type": "code",
   "execution_count": 8,
   "id": "1ddf5885-d605-4a60-9826-a5db47815190",
   "metadata": {},
   "outputs": [],
   "source": [
    "datasets['creditg'] = [X, y, columns]"
   ]
  },
  {
   "cell_type": "markdown",
   "id": "1c2f8190-05ee-4385-82c3-17fed2379bb1",
   "metadata": {},
   "source": [
    "### Spambase"
   ]
  },
  {
   "cell_type": "code",
   "execution_count": 9,
   "id": "7cb226b6-824c-466d-9216-03d4b09e381f",
   "metadata": {},
   "outputs": [],
   "source": [
    "spambase_dataset = openml.datasets.get_dataset(44)"
   ]
  },
  {
   "cell_type": "code",
   "execution_count": 10,
   "id": "54808c77-324c-4b3a-83a3-e6d6501cdf43",
   "metadata": {},
   "outputs": [],
   "source": [
    "X, y, _, columns = spambase_dataset.get_data(target=spambase_dataset.default_target_attribute)"
   ]
  },
  {
   "cell_type": "code",
   "execution_count": 11,
   "id": "2a3951db-efcd-48a1-bf59-d2bfb22c9ed8",
   "metadata": {},
   "outputs": [],
   "source": [
    "datasets['spambase'] = [X, y, columns]"
   ]
  },
  {
   "cell_type": "markdown",
   "id": "6b42ce24-ac2a-409b-b28a-0164b7406211",
   "metadata": {},
   "source": [
    "### Yeast"
   ]
  },
  {
   "cell_type": "code",
   "execution_count": 14,
   "id": "47f2ba50-ce18-4f51-b8ac-5cb9c775c9e8",
   "metadata": {},
   "outputs": [],
   "source": [
    "yeast_dataset = openml.datasets.get_dataset(40597)"
   ]
  },
  {
   "cell_type": "code",
   "execution_count": 18,
   "id": "fddaea73-9c39-4b98-b138-c6275fd4aa77",
   "metadata": {},
   "outputs": [],
   "source": [
    "X, y, _, columns = yeast_dataset.get_data()"
   ]
  },
  {
   "cell_type": "code",
   "execution_count": 21,
   "id": "8c8ed080-78a7-4bf0-90ab-50d5f41a598e",
   "metadata": {},
   "outputs": [],
   "source": [
    "datasets['yeast'] = [X, y, columns]"
   ]
  },
  {
   "cell_type": "markdown",
   "id": "b2a74372-c376-48ea-b049-43686e7d7a38",
   "metadata": {},
   "source": [
    "# Preprocessing"
   ]
  },
  {
   "cell_type": "code",
   "execution_count": 25,
   "id": "790217c5-1eb6-48d0-ad5b-dda0b31ef2f8",
   "metadata": {},
   "outputs": [],
   "source": [
    "from sklearn.model_selection import train_test_split"
   ]
  },
  {
   "cell_type": "code",
   "execution_count": 26,
   "id": "31157c89-ef10-41e5-966f-0fbe8d256f5a",
   "metadata": {},
   "outputs": [],
   "source": [
    "X = datasets['diabetes'][0]\n",
    "y = datasets['diabetes'][1]"
   ]
  },
  {
   "cell_type": "code",
   "execution_count": 39,
   "id": "3cebade8-0c0b-4174-a0bb-eb6be97689d8",
   "metadata": {},
   "outputs": [],
   "source": [
    "# Podział na dane treningowe i testowe\n",
    "X_train, X_test, y_train, y_test = train_test_split(X, y, test_size=0.2, random_state=42)"
   ]
  },
  {
   "cell_type": "markdown",
   "id": "dfd8bd1c-3e51-4f66-883c-28d4b5202be4",
   "metadata": {},
   "source": [
    "# Random Search"
   ]
  },
  {
   "cell_type": "code",
   "execution_count": 28,
   "id": "0a8f4bb6-c281-4367-987a-0adaae1e5c3d",
   "metadata": {},
   "outputs": [],
   "source": [
    "import pandas as pd\n",
    "from sklearn.model_selection import RandomizedSearchCV\n",
    "from sklearn.ensemble import RandomForestClassifier\n",
    "from sklearn.metrics import classification_report, accuracy_score\n",
    "from imblearn.over_sampling import SMOTE\n",
    "from optuna import create_study\n",
    "from optuna.samplers import TPESampler"
   ]
  },
  {
   "cell_type": "code",
   "execution_count": 41,
   "id": "c36a1781-a4c4-4bf9-90fd-b14d01f22e9f",
   "metadata": {},
   "outputs": [],
   "source": [
    "# Definicja modelu i parametrów do przeszukiwania\n",
    "rf = RandomForestClassifier(random_state=42)\n",
    "param_distributions = {\n",
    "    'n_estimators': [50, 100, 200, 300],\n",
    "    'max_depth': [5, 10, 20, None],\n",
    "    'min_samples_split': [2, 5, 10],\n",
    "    'min_samples_leaf': [1, 2, 4],\n",
    "    'bootstrap': [True, False]\n",
    "}"
   ]
  },
  {
   "cell_type": "code",
   "execution_count": 42,
   "id": "2f5b0a88-5eab-4d90-8660-0a0d6457bb03",
   "metadata": {},
   "outputs": [],
   "source": [
    "# Przeprowadzenie Random Search\n",
    "random_search = RandomizedSearchCV(\n",
    "    estimator=rf,\n",
    "    param_distributions=param_distributions,\n",
    "    n_iter=20,\n",
    "    scoring='accuracy',\n",
    "    cv=3,\n",
    "    random_state=42,\n",
    "    n_jobs=-1\n",
    ")"
   ]
  },
  {
   "cell_type": "code",
   "execution_count": 43,
   "id": "2b7c3887-3a2a-450a-8b9b-a40cb80cd726",
   "metadata": {},
   "outputs": [],
   "source": [
    "random_search.fit(X_train, y_train)\n",
    "best_rf_random = random_search.best_estimator_"
   ]
  },
  {
   "cell_type": "code",
   "execution_count": 44,
   "id": "8c213d0f-88c5-4696-b6ba-8299c4f37363",
   "metadata": {},
   "outputs": [
    {
     "name": "stdout",
     "output_type": "stream",
     "text": [
      "Najlepsze parametry z Random Search: {'n_estimators': 100, 'min_samples_split': 2, 'min_samples_leaf': 1, 'max_depth': 10, 'bootstrap': False}\n",
      "Accuracy: 0.7337662337662337\n",
      "                 precision    recall  f1-score   support\n",
      "\n",
      "tested_negative       0.80      0.78      0.79        99\n",
      "tested_positive       0.62      0.65      0.64        55\n",
      "\n",
      "       accuracy                           0.73       154\n",
      "      macro avg       0.71      0.72      0.71       154\n",
      "   weighted avg       0.74      0.73      0.74       154\n",
      "\n"
     ]
    }
   ],
   "source": [
    "# Wynik\n",
    "print(\"Najlepsze parametry z Random Search:\", random_search.best_params_)\n",
    "y_pred = best_rf_random.predict(X_test)\n",
    "print(\"Accuracy:\", accuracy_score(y_test, y_pred))\n",
    "print(classification_report(y_test, y_pred))"
   ]
  },
  {
   "cell_type": "markdown",
   "id": "1f237545-b9db-4aa5-858c-6495450f4bf1",
   "metadata": {},
   "source": [
    "# Bayesian Optimization"
   ]
  },
  {
   "cell_type": "code",
   "execution_count": 45,
   "id": "e1fe3511-bb9a-4e56-9027-aedd84d7c44a",
   "metadata": {},
   "outputs": [],
   "source": [
    "def objective(trial):\n",
    "    # Definicja zakresów dla hiperparametrów\n",
    "    n_estimators = trial.suggest_int('n_estimators', 50, 300)\n",
    "    max_depth = trial.suggest_int('max_depth', 5, 20)\n",
    "    min_samples_split = trial.suggest_int('min_samples_split', 2, 10)\n",
    "    min_samples_leaf = trial.suggest_int('min_samples_leaf', 1, 4)\n",
    "    bootstrap = trial.suggest_categorical('bootstrap', [True, False])\n",
    "\n",
    "    # Konfiguracja modelu z parametrami z próbki\n",
    "    model = RandomForestClassifier(\n",
    "        n_estimators=n_estimators,\n",
    "        max_depth=max_depth,\n",
    "        min_samples_split=min_samples_split,\n",
    "        min_samples_leaf=min_samples_leaf,\n",
    "        bootstrap=bootstrap,\n",
    "        random_state=42,\n",
    "        n_jobs=-1\n",
    "    )\n",
    "\n",
    "    # Trening modelu i walidacja krzyżowa\n",
    "    model.fit(X_train, y_train)\n",
    "    y_pred = model.predict(X_test)\n",
    "    accuracy = accuracy_score(y_test, y_pred)\n",
    "    return accuracy"
   ]
  },
  {
   "cell_type": "code",
   "execution_count": 46,
   "id": "ab2622c2-111c-4007-8683-591780d059eb",
   "metadata": {},
   "outputs": [
    {
     "name": "stderr",
     "output_type": "stream",
     "text": [
      "[I 2024-11-12 22:05:10,090] A new study created in memory with name: no-name-bc169c5f-5c24-4f52-a1d2-31f0d692e9a1\n",
      "[I 2024-11-12 22:05:10,336] Trial 0 finished with value: 0.7597402597402597 and parameters: {'n_estimators': 144, 'max_depth': 20, 'min_samples_split': 8, 'min_samples_leaf': 3, 'bootstrap': True}. Best is trial 0 with value: 0.7597402597402597.\n",
      "[I 2024-11-12 22:05:10,430] Trial 1 finished with value: 0.7272727272727273 and parameters: {'n_estimators': 64, 'max_depth': 18, 'min_samples_split': 7, 'min_samples_leaf': 3, 'bootstrap': False}. Best is trial 0 with value: 0.7597402597402597.\n",
      "[I 2024-11-12 22:05:10,693] Trial 2 finished with value: 0.7467532467532467 and parameters: {'n_estimators': 258, 'max_depth': 8, 'min_samples_split': 3, 'min_samples_leaf': 1, 'bootstrap': False}. Best is trial 0 with value: 0.7597402597402597.\n",
      "[I 2024-11-12 22:05:10,874] Trial 3 finished with value: 0.7337662337662337 and parameters: {'n_estimators': 158, 'max_depth': 9, 'min_samples_split': 7, 'min_samples_leaf': 1, 'bootstrap': False}. Best is trial 0 with value: 0.7597402597402597.\n",
      "[I 2024-11-12 22:05:11,437] Trial 4 finished with value: 0.7402597402597403 and parameters: {'n_estimators': 164, 'max_depth': 17, 'min_samples_split': 3, 'min_samples_leaf': 3, 'bootstrap': True}. Best is trial 0 with value: 0.7597402597402597.\n",
      "[I 2024-11-12 22:05:11,726] Trial 5 finished with value: 0.7532467532467533 and parameters: {'n_estimators': 202, 'max_depth': 7, 'min_samples_split': 2, 'min_samples_leaf': 4, 'bootstrap': True}. Best is trial 0 with value: 0.7597402597402597.\n",
      "[I 2024-11-12 22:05:11,889] Trial 6 finished with value: 0.7337662337662337 and parameters: {'n_estimators': 126, 'max_depth': 6, 'min_samples_split': 8, 'min_samples_leaf': 2, 'bootstrap': False}. Best is trial 0 with value: 0.7597402597402597.\n",
      "[I 2024-11-12 22:05:11,976] Trial 7 finished with value: 0.7272727272727273 and parameters: {'n_estimators': 58, 'max_depth': 19, 'min_samples_split': 4, 'min_samples_leaf': 3, 'bootstrap': False}. Best is trial 0 with value: 0.7597402597402597.\n",
      "[I 2024-11-12 22:05:12,258] Trial 8 finished with value: 0.7597402597402597 and parameters: {'n_estimators': 187, 'max_depth': 7, 'min_samples_split': 10, 'min_samples_leaf': 4, 'bootstrap': True}. Best is trial 0 with value: 0.7597402597402597.\n",
      "[I 2024-11-12 22:05:12,474] Trial 9 finished with value: 0.7337662337662337 and parameters: {'n_estimators': 200, 'max_depth': 19, 'min_samples_split': 2, 'min_samples_leaf': 1, 'bootstrap': False}. Best is trial 0 with value: 0.7597402597402597.\n",
      "[I 2024-11-12 22:05:12,890] Trial 10 finished with value: 0.7467532467532467 and parameters: {'n_estimators': 287, 'max_depth': 13, 'min_samples_split': 10, 'min_samples_leaf': 2, 'bootstrap': True}. Best is trial 0 with value: 0.7597402597402597.\n",
      "[I 2024-11-12 22:05:13,152] Trial 11 finished with value: 0.7532467532467533 and parameters: {'n_estimators': 125, 'max_depth': 13, 'min_samples_split': 10, 'min_samples_leaf': 4, 'bootstrap': True}. Best is trial 0 with value: 0.7597402597402597.\n",
      "[I 2024-11-12 22:05:13,535] Trial 12 finished with value: 0.7532467532467533 and parameters: {'n_estimators': 230, 'max_depth': 11, 'min_samples_split': 9, 'min_samples_leaf': 4, 'bootstrap': True}. Best is trial 0 with value: 0.7597402597402597.\n",
      "[I 2024-11-12 22:05:13,732] Trial 13 finished with value: 0.7532467532467533 and parameters: {'n_estimators': 110, 'max_depth': 15, 'min_samples_split': 5, 'min_samples_leaf': 4, 'bootstrap': True}. Best is trial 0 with value: 0.7597402597402597.\n",
      "[I 2024-11-12 22:05:14,038] Trial 14 finished with value: 0.7662337662337663 and parameters: {'n_estimators': 199, 'max_depth': 5, 'min_samples_split': 8, 'min_samples_leaf': 3, 'bootstrap': True}. Best is trial 14 with value: 0.7662337662337663.\n",
      "[I 2024-11-12 22:05:14,415] Trial 15 finished with value: 0.7662337662337663 and parameters: {'n_estimators': 238, 'max_depth': 5, 'min_samples_split': 6, 'min_samples_leaf': 2, 'bootstrap': True}. Best is trial 14 with value: 0.7662337662337663.\n",
      "[I 2024-11-12 22:05:14,765] Trial 16 finished with value: 0.7597402597402597 and parameters: {'n_estimators': 240, 'max_depth': 5, 'min_samples_split': 6, 'min_samples_leaf': 2, 'bootstrap': True}. Best is trial 14 with value: 0.7662337662337663.\n",
      "[I 2024-11-12 22:05:15,258] Trial 17 finished with value: 0.7467532467532467 and parameters: {'n_estimators': 300, 'max_depth': 10, 'min_samples_split': 6, 'min_samples_leaf': 2, 'bootstrap': True}. Best is trial 14 with value: 0.7662337662337663.\n",
      "[I 2024-11-12 22:05:15,695] Trial 18 finished with value: 0.7597402597402597 and parameters: {'n_estimators': 217, 'max_depth': 5, 'min_samples_split': 5, 'min_samples_leaf': 2, 'bootstrap': True}. Best is trial 14 with value: 0.7662337662337663.\n",
      "[I 2024-11-12 22:05:16,127] Trial 19 finished with value: 0.7532467532467533 and parameters: {'n_estimators': 264, 'max_depth': 11, 'min_samples_split': 7, 'min_samples_leaf': 3, 'bootstrap': True}. Best is trial 14 with value: 0.7662337662337663.\n"
     ]
    }
   ],
   "source": [
    "# Tworzenie i uruchamianie optymalizacji\n",
    "study = create_study(direction='maximize', sampler=TPESampler(seed=42))\n",
    "study.optimize(objective, n_trials=20)"
   ]
  },
  {
   "cell_type": "code",
   "execution_count": 47,
   "id": "1ec8db0b-9d61-444d-a2f9-c75e4eb9871a",
   "metadata": {},
   "outputs": [
    {
     "name": "stdout",
     "output_type": "stream",
     "text": [
      "Najlepsze parametry z Bayesian Optimization: {'n_estimators': 199, 'max_depth': 5, 'min_samples_split': 8, 'min_samples_leaf': 3, 'bootstrap': True}\n",
      "Najlepsza dokładność: 0.7662337662337663\n"
     ]
    }
   ],
   "source": [
    "print(\"Najlepsze parametry z Bayesian Optimization:\", study.best_params)\n",
    "print(\"Najlepsza dokładność:\", study.best_value)\n"
   ]
  },
  {
   "cell_type": "code",
   "execution_count": 48,
   "id": "07ead501-74d6-458b-8b57-58ba846bb442",
   "metadata": {},
   "outputs": [],
   "source": [
    "# Test z najlepszym modelem\n",
    "best_rf_bayes = RandomForestClassifier(**study.best_params, random_state=42)\n",
    "best_rf_bayes.fit(X_train, y_train)\n",
    "y_pred_bayes = best_rf_bayes.predict(X_test)\n"
   ]
  },
  {
   "cell_type": "code",
   "execution_count": 49,
   "id": "69b257cf-25e1-4a46-ac87-438f50b374e7",
   "metadata": {},
   "outputs": [
    {
     "name": "stdout",
     "output_type": "stream",
     "text": [
      "Accuracy (Bayesian Optimization): 0.7662337662337663\n",
      "                 precision    recall  f1-score   support\n",
      "\n",
      "tested_negative       0.81      0.84      0.82        99\n",
      "tested_positive       0.69      0.64      0.66        55\n",
      "\n",
      "       accuracy                           0.77       154\n",
      "      macro avg       0.75      0.74      0.74       154\n",
      "   weighted avg       0.76      0.77      0.76       154\n",
      "\n"
     ]
    }
   ],
   "source": [
    "print(\"Accuracy (Bayesian Optimization):\", accuracy_score(y_test, y_pred_bayes))\n",
    "print(classification_report(y_test, y_pred_bayes))"
   ]
  },
  {
   "cell_type": "code",
   "execution_count": null,
   "id": "b38493e4-0314-497e-a7a7-615dc8ad18af",
   "metadata": {},
   "outputs": [],
   "source": []
  }
 ],
 "metadata": {
  "kernelspec": {
   "display_name": "Python 3 (ipykernel)",
   "language": "python",
   "name": "python3"
  },
  "language_info": {
   "codemirror_mode": {
    "name": "ipython",
    "version": 3
   },
   "file_extension": ".py",
   "mimetype": "text/x-python",
   "name": "python",
   "nbconvert_exporter": "python",
   "pygments_lexer": "ipython3",
   "version": "3.12.6"
  }
 },
 "nbformat": 4,
 "nbformat_minor": 5
}
